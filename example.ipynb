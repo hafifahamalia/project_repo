{
 "cells": [
  {
   "cell_type": "code",
   "execution_count": 1,
   "id": "947176be-743b-45ec-be88-b1406fbdccc5",
   "metadata": {},
   "outputs": [
    {
     "name": "stdout",
     "output_type": "stream",
     "text": [
      "Hello World\n"
     ]
    }
   ],
   "source": [
    "print(\"Hello World\")"
   ]
  },
  {
   "cell_type": "markdown",
   "id": "255e1181-2064-4c56-81b3-63da416c509d",
   "metadata": {},
   "source": [
    "ini yang baru"
   ]
  },
  {
   "cell_type": "code",
   "execution_count": null,
   "id": "ef50809a-7862-49d0-87fd-2c72f1872531",
   "metadata": {},
   "outputs": [],
   "source": []
  }
 ],
 "metadata": {
  "kernelspec": {
   "display_name": "Python 3 (ipykernel)",
   "language": "python",
   "name": "python3"
  },
  "language_info": {
   "codemirror_mode": {
    "name": "ipython",
    "version": 3
   },
   "file_extension": ".py",
   "mimetype": "text/x-python",
   "name": "python",
   "nbconvert_exporter": "python",
   "pygments_lexer": "ipython3",
   "version": "3.11.7"
  }
 },
 "nbformat": 4,
 "nbformat_minor": 5
}
